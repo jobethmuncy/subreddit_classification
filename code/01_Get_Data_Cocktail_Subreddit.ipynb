{
 "cells": [
  {
   "cell_type": "markdown",
   "metadata": {},
   "source": [
    "# Data Collection for Cocktails"
   ]
  },
  {
   "cell_type": "code",
   "execution_count": 16,
   "metadata": {},
   "outputs": [],
   "source": [
    "import requests\n",
    "from bs4 import BeautifulSoup\n",
    "from pprint import pprint\n",
    "import pandas as pd\n",
    "import time"
   ]
  },
  {
   "cell_type": "code",
   "execution_count": 17,
   "metadata": {},
   "outputs": [],
   "source": [
    "# try both to decide which to use \n",
    "url = \"https://api.pushshift.io/reddit/search/submission\" "
   ]
  },
  {
   "cell_type": "code",
   "execution_count": 18,
   "metadata": {},
   "outputs": [],
   "source": [
    "# this is for comments - will be using this one\n",
    "url_comments = \"https://api.pushshift.io/reddit/search/comment\""
   ]
  },
  {
   "cell_type": "code",
   "execution_count": 19,
   "metadata": {},
   "outputs": [],
   "source": [
    "params = {\n",
    "    'subreddit' : 'cocktails', \n",
    "    'size' : '500'\n",
    "#     'before':\n",
    "}"
   ]
  },
  {
   "cell_type": "code",
   "execution_count": 20,
   "metadata": {},
   "outputs": [
    {
     "data": {
      "text/plain": [
       "200"
      ]
     },
     "execution_count": 20,
     "metadata": {},
     "output_type": "execute_result"
    }
   ],
   "source": [
    "# for submissions\n",
    "res = requests.get(url, params)\n",
    "res.status_code"
   ]
  },
  {
   "cell_type": "code",
   "execution_count": 21,
   "metadata": {},
   "outputs": [
    {
     "data": {
      "text/plain": [
       "200"
      ]
     },
     "execution_count": 21,
     "metadata": {},
     "output_type": "execute_result"
    }
   ],
   "source": [
    "# for comments\n",
    "res_c = requests.get(url_comments, params)\n",
    "res_c.status_code"
   ]
  },
  {
   "cell_type": "code",
   "execution_count": 22,
   "metadata": {},
   "outputs": [],
   "source": [
    "data = res.json()"
   ]
  },
  {
   "cell_type": "code",
   "execution_count": 23,
   "metadata": {},
   "outputs": [],
   "source": [
    "# per Riley Davis video on starting Project 3 \n",
    "\n",
    "post_drinks = data['data']"
   ]
  },
  {
   "cell_type": "code",
   "execution_count": 24,
   "metadata": {},
   "outputs": [
    {
     "data": {
      "text/html": [
       "<div>\n",
       "<style scoped>\n",
       "    .dataframe tbody tr th:only-of-type {\n",
       "        vertical-align: middle;\n",
       "    }\n",
       "\n",
       "    .dataframe tbody tr th {\n",
       "        vertical-align: top;\n",
       "    }\n",
       "\n",
       "    .dataframe thead th {\n",
       "        text-align: right;\n",
       "    }\n",
       "</style>\n",
       "<table border=\"1\" class=\"dataframe\">\n",
       "  <thead>\n",
       "    <tr style=\"text-align: right;\">\n",
       "      <th></th>\n",
       "      <th>all_awardings</th>\n",
       "      <th>allow_live_comments</th>\n",
       "      <th>author</th>\n",
       "      <th>author_flair_css_class</th>\n",
       "      <th>author_flair_richtext</th>\n",
       "      <th>author_flair_text</th>\n",
       "      <th>author_flair_type</th>\n",
       "      <th>author_fullname</th>\n",
       "      <th>author_patreon_flair</th>\n",
       "      <th>author_premium</th>\n",
       "      <th>...</th>\n",
       "      <th>poll_data</th>\n",
       "      <th>media</th>\n",
       "      <th>media_embed</th>\n",
       "      <th>secure_media</th>\n",
       "      <th>secure_media_embed</th>\n",
       "      <th>crosspost_parent</th>\n",
       "      <th>crosspost_parent_list</th>\n",
       "      <th>distinguished</th>\n",
       "      <th>author_cakeday</th>\n",
       "      <th>media_metadata</th>\n",
       "    </tr>\n",
       "  </thead>\n",
       "  <tbody>\n",
       "    <tr>\n",
       "      <th>0</th>\n",
       "      <td>[]</td>\n",
       "      <td>False</td>\n",
       "      <td>rkelly74</td>\n",
       "      <td>None</td>\n",
       "      <td>[]</td>\n",
       "      <td>None</td>\n",
       "      <td>text</td>\n",
       "      <td>t2_d8jgy</td>\n",
       "      <td>False</td>\n",
       "      <td>False</td>\n",
       "      <td>...</td>\n",
       "      <td>NaN</td>\n",
       "      <td>NaN</td>\n",
       "      <td>NaN</td>\n",
       "      <td>NaN</td>\n",
       "      <td>NaN</td>\n",
       "      <td>NaN</td>\n",
       "      <td>NaN</td>\n",
       "      <td>NaN</td>\n",
       "      <td>NaN</td>\n",
       "      <td>NaN</td>\n",
       "    </tr>\n",
       "    <tr>\n",
       "      <th>1</th>\n",
       "      <td>[]</td>\n",
       "      <td>False</td>\n",
       "      <td>WaronTerah</td>\n",
       "      <td>None</td>\n",
       "      <td>[]</td>\n",
       "      <td>None</td>\n",
       "      <td>text</td>\n",
       "      <td>t2_byiqdo</td>\n",
       "      <td>False</td>\n",
       "      <td>False</td>\n",
       "      <td>...</td>\n",
       "      <td>NaN</td>\n",
       "      <td>NaN</td>\n",
       "      <td>NaN</td>\n",
       "      <td>NaN</td>\n",
       "      <td>NaN</td>\n",
       "      <td>NaN</td>\n",
       "      <td>NaN</td>\n",
       "      <td>NaN</td>\n",
       "      <td>NaN</td>\n",
       "      <td>NaN</td>\n",
       "    </tr>\n",
       "    <tr>\n",
       "      <th>2</th>\n",
       "      <td>[]</td>\n",
       "      <td>False</td>\n",
       "      <td>hoolagenn</td>\n",
       "      <td>None</td>\n",
       "      <td>[]</td>\n",
       "      <td>None</td>\n",
       "      <td>text</td>\n",
       "      <td>t2_wscm6</td>\n",
       "      <td>False</td>\n",
       "      <td>False</td>\n",
       "      <td>...</td>\n",
       "      <td>NaN</td>\n",
       "      <td>NaN</td>\n",
       "      <td>NaN</td>\n",
       "      <td>NaN</td>\n",
       "      <td>NaN</td>\n",
       "      <td>NaN</td>\n",
       "      <td>NaN</td>\n",
       "      <td>NaN</td>\n",
       "      <td>NaN</td>\n",
       "      <td>NaN</td>\n",
       "    </tr>\n",
       "    <tr>\n",
       "      <th>3</th>\n",
       "      <td>[]</td>\n",
       "      <td>False</td>\n",
       "      <td>Irish_sidhe</td>\n",
       "      <td>None</td>\n",
       "      <td>[]</td>\n",
       "      <td>None</td>\n",
       "      <td>text</td>\n",
       "      <td>t2_67jufvyj</td>\n",
       "      <td>False</td>\n",
       "      <td>False</td>\n",
       "      <td>...</td>\n",
       "      <td>NaN</td>\n",
       "      <td>NaN</td>\n",
       "      <td>NaN</td>\n",
       "      <td>NaN</td>\n",
       "      <td>NaN</td>\n",
       "      <td>NaN</td>\n",
       "      <td>NaN</td>\n",
       "      <td>NaN</td>\n",
       "      <td>NaN</td>\n",
       "      <td>NaN</td>\n",
       "    </tr>\n",
       "    <tr>\n",
       "      <th>4</th>\n",
       "      <td>[]</td>\n",
       "      <td>False</td>\n",
       "      <td>gie-gie</td>\n",
       "      <td>None</td>\n",
       "      <td>[]</td>\n",
       "      <td>None</td>\n",
       "      <td>text</td>\n",
       "      <td>t2_9ysen</td>\n",
       "      <td>False</td>\n",
       "      <td>False</td>\n",
       "      <td>...</td>\n",
       "      <td>NaN</td>\n",
       "      <td>NaN</td>\n",
       "      <td>NaN</td>\n",
       "      <td>NaN</td>\n",
       "      <td>NaN</td>\n",
       "      <td>NaN</td>\n",
       "      <td>NaN</td>\n",
       "      <td>NaN</td>\n",
       "      <td>NaN</td>\n",
       "      <td>NaN</td>\n",
       "    </tr>\n",
       "  </tbody>\n",
       "</table>\n",
       "<p>5 rows × 76 columns</p>\n",
       "</div>"
      ],
      "text/plain": [
       "  all_awardings  allow_live_comments       author author_flair_css_class  \\\n",
       "0            []                False     rkelly74                   None   \n",
       "1            []                False   WaronTerah                   None   \n",
       "2            []                False    hoolagenn                   None   \n",
       "3            []                False  Irish_sidhe                   None   \n",
       "4            []                False      gie-gie                   None   \n",
       "\n",
       "  author_flair_richtext author_flair_text author_flair_type author_fullname  \\\n",
       "0                    []              None              text        t2_d8jgy   \n",
       "1                    []              None              text       t2_byiqdo   \n",
       "2                    []              None              text        t2_wscm6   \n",
       "3                    []              None              text     t2_67jufvyj   \n",
       "4                    []              None              text        t2_9ysen   \n",
       "\n",
       "  author_patreon_flair author_premium  ... poll_data  media  media_embed  \\\n",
       "0                False          False  ...       NaN    NaN          NaN   \n",
       "1                False          False  ...       NaN    NaN          NaN   \n",
       "2                False          False  ...       NaN    NaN          NaN   \n",
       "3                False          False  ...       NaN    NaN          NaN   \n",
       "4                False          False  ...       NaN    NaN          NaN   \n",
       "\n",
       "   secure_media secure_media_embed crosspost_parent crosspost_parent_list  \\\n",
       "0           NaN                NaN              NaN                   NaN   \n",
       "1           NaN                NaN              NaN                   NaN   \n",
       "2           NaN                NaN              NaN                   NaN   \n",
       "3           NaN                NaN              NaN                   NaN   \n",
       "4           NaN                NaN              NaN                   NaN   \n",
       "\n",
       "  distinguished  author_cakeday  media_metadata  \n",
       "0           NaN             NaN             NaN  \n",
       "1           NaN             NaN             NaN  \n",
       "2           NaN             NaN             NaN  \n",
       "3           NaN             NaN             NaN  \n",
       "4           NaN             NaN             NaN  \n",
       "\n",
       "[5 rows x 76 columns]"
      ]
     },
     "execution_count": 24,
     "metadata": {},
     "output_type": "execute_result"
    }
   ],
   "source": [
    "df = pd.DataFrame(post_drinks)\n",
    "df.head()"
   ]
  },
  {
   "cell_type": "code",
   "execution_count": 25,
   "metadata": {},
   "outputs": [],
   "source": [
    "# Modified from Tim Book office hours\n",
    "\n",
    "def get_comments(subreddit, n_iter):\n",
    "    \n",
    "    df_list = []\n",
    "    current_time = 1587245505\n",
    "    \n",
    "    for _ in range(n_iter):\n",
    "        res = requests.get(\n",
    "            url_comments,\n",
    "            params={\n",
    "                \"subreddit\": subreddit,\n",
    "                \"size\": 500,\n",
    "                \"before\": current_time\n",
    "            }\n",
    "        )\n",
    "        time.sleep(3)\n",
    "        df = pd.DataFrame(res.json()['data'])\n",
    "        df = df.loc[:, [\"subreddit\", \"body\", \"created_utc\"]]\n",
    "        df_list.append(df)\n",
    "        current_time = df.created_utc.min()\n",
    "        \n",
    "    return pd.concat(df_list, axis=0)"
   ]
  },
  {
   "cell_type": "code",
   "execution_count": 26,
   "metadata": {},
   "outputs": [],
   "source": [
    "df_comments_cocktails = get_comments('cocktails', 100)"
   ]
  },
  {
   "cell_type": "code",
   "execution_count": 27,
   "metadata": {
    "scrolled": true
   },
   "outputs": [
    {
     "data": {
      "text/html": [
       "<div>\n",
       "<style scoped>\n",
       "    .dataframe tbody tr th:only-of-type {\n",
       "        vertical-align: middle;\n",
       "    }\n",
       "\n",
       "    .dataframe tbody tr th {\n",
       "        vertical-align: top;\n",
       "    }\n",
       "\n",
       "    .dataframe thead th {\n",
       "        text-align: right;\n",
       "    }\n",
       "</style>\n",
       "<table border=\"1\" class=\"dataframe\">\n",
       "  <thead>\n",
       "    <tr style=\"text-align: right;\">\n",
       "      <th></th>\n",
       "      <th>subreddit</th>\n",
       "      <th>body</th>\n",
       "      <th>created_utc</th>\n",
       "    </tr>\n",
       "  </thead>\n",
       "  <tbody>\n",
       "    <tr>\n",
       "      <th>0</th>\n",
       "      <td>cocktails</td>\n",
       "      <td>Mine didn’t pop up, but it came away from the ...</td>\n",
       "      <td>1587245474</td>\n",
       "    </tr>\n",
       "    <tr>\n",
       "      <th>1</th>\n",
       "      <td>cocktails</td>\n",
       "      <td>Yes it is.</td>\n",
       "      <td>1587245372</td>\n",
       "    </tr>\n",
       "    <tr>\n",
       "      <th>2</th>\n",
       "      <td>cocktails</td>\n",
       "      <td>Are you still able to discern the Bombay Sapph...</td>\n",
       "      <td>1587245319</td>\n",
       "    </tr>\n",
       "    <tr>\n",
       "      <th>3</th>\n",
       "      <td>cocktails</td>\n",
       "      <td>Damn, just ran out of gin and curacao. I'm gue...</td>\n",
       "      <td>1587245240</td>\n",
       "    </tr>\n",
       "    <tr>\n",
       "      <th>4</th>\n",
       "      <td>cocktails</td>\n",
       "      <td>Jesus... you have a bottle of Blanton's and yo...</td>\n",
       "      <td>1587245204</td>\n",
       "    </tr>\n",
       "    <tr>\n",
       "      <th>...</th>\n",
       "      <td>...</td>\n",
       "      <td>...</td>\n",
       "      <td>...</td>\n",
       "    </tr>\n",
       "    <tr>\n",
       "      <th>495</th>\n",
       "      <td>cocktails</td>\n",
       "      <td>14.7%, Tiburon coconut &amp;amp; tropical fruit.</td>\n",
       "      <td>1575062343</td>\n",
       "    </tr>\n",
       "    <tr>\n",
       "      <th>496</th>\n",
       "      <td>cocktails</td>\n",
       "      <td>Marie Brizard makes a very nice [peppermint li...</td>\n",
       "      <td>1575062011</td>\n",
       "    </tr>\n",
       "    <tr>\n",
       "      <th>497</th>\n",
       "      <td>cocktails</td>\n",
       "      <td>It is kind of interesting that the first publi...</td>\n",
       "      <td>1575061963</td>\n",
       "    </tr>\n",
       "    <tr>\n",
       "      <th>498</th>\n",
       "      <td>cocktails</td>\n",
       "      <td>I did but they didn't stay in place as we have...</td>\n",
       "      <td>1575061821</td>\n",
       "    </tr>\n",
       "    <tr>\n",
       "      <th>499</th>\n",
       "      <td>cocktails</td>\n",
       "      <td>Ah, is really as much as you want. Probably 2o...</td>\n",
       "      <td>1575061146</td>\n",
       "    </tr>\n",
       "  </tbody>\n",
       "</table>\n",
       "<p>48527 rows × 3 columns</p>\n",
       "</div>"
      ],
      "text/plain": [
       "     subreddit                                               body  created_utc\n",
       "0    cocktails  Mine didn’t pop up, but it came away from the ...   1587245474\n",
       "1    cocktails                                         Yes it is.   1587245372\n",
       "2    cocktails  Are you still able to discern the Bombay Sapph...   1587245319\n",
       "3    cocktails  Damn, just ran out of gin and curacao. I'm gue...   1587245240\n",
       "4    cocktails  Jesus... you have a bottle of Blanton's and yo...   1587245204\n",
       "..         ...                                                ...          ...\n",
       "495  cocktails       14.7%, Tiburon coconut &amp; tropical fruit.   1575062343\n",
       "496  cocktails  Marie Brizard makes a very nice [peppermint li...   1575062011\n",
       "497  cocktails  It is kind of interesting that the first publi...   1575061963\n",
       "498  cocktails  I did but they didn't stay in place as we have...   1575061821\n",
       "499  cocktails  Ah, is really as much as you want. Probably 2o...   1575061146\n",
       "\n",
       "[48527 rows x 3 columns]"
      ]
     },
     "execution_count": 27,
     "metadata": {},
     "output_type": "execute_result"
    }
   ],
   "source": [
    "df_comments_cocktails[df_comments_cocktails['body'].duplicated() == False]\n",
    "\n",
    "# have 50,000 documents \n",
    "# the comments form cocktails have 48,527 unique values "
   ]
  },
  {
   "cell_type": "code",
   "execution_count": 28,
   "metadata": {
    "scrolled": true
   },
   "outputs": [
    {
     "data": {
      "text/plain": [
       "(50000, 3)"
      ]
     },
     "execution_count": 28,
     "metadata": {},
     "output_type": "execute_result"
    }
   ],
   "source": [
    "df_comments_cocktails.shape"
   ]
  },
  {
   "cell_type": "code",
   "execution_count": 29,
   "metadata": {},
   "outputs": [
    {
     "name": "stdout",
     "output_type": "stream",
     "text": [
      "min 1575061146\n",
      "max 1587245474\n",
      "time range 140 days, 23 hours, 32 minutes and 38 seconds\n"
     ]
    }
   ],
   "source": [
    "print('min', df_comments_cocktails['created_utc'].min())\n",
    "# Friday, November 29, 2019 8:59:06 PM\n",
    "\n",
    "print('max', df_comments_cocktails['created_utc'].max())\n",
    "# Saturday, April 18, 2020 9:31:14 PM\n",
    "\n",
    "print('time range', '140 days, 23 hours, 32 minutes and 38 seconds')"
   ]
  },
  {
   "cell_type": "code",
   "execution_count": 33,
   "metadata": {},
   "outputs": [],
   "source": [
    "# for data used for 50K comments pulled \n",
    "# commented out so I don't accidently override \n",
    "\n",
    "# df_comments_cocktails.to_csv('../data/cocktails_50comments.csv', index = False)"
   ]
  },
  {
   "cell_type": "code",
   "execution_count": 31,
   "metadata": {},
   "outputs": [],
   "source": [
    "# # for 20K \n",
    "# print('min', df_comments_cocktails['created_utc'].min())\n",
    "# # March 3, 2020 1:48:17 PM\n",
    "\n",
    "# print('max', df_comments_cocktails['created_utc'].max())\n",
    "# # Saturday, April 18, 2020 9:31:14 PM\n",
    "\n",
    "# print('time range', '46 days, 6 hours, 43 minutes')"
   ]
  },
  {
   "cell_type": "code",
   "execution_count": 32,
   "metadata": {},
   "outputs": [],
   "source": [
    "# for data used for 20K comments pulled \n",
    "# commented out so I don't accidently override \n",
    "\n",
    "# df_comments_cocktails.to_csv('../data/cocktails_comments.csv')"
   ]
  },
  {
   "cell_type": "code",
   "execution_count": null,
   "metadata": {},
   "outputs": [],
   "source": []
  }
 ],
 "metadata": {
  "kernelspec": {
   "display_name": "Python 3",
   "language": "python",
   "name": "python3"
  },
  "language_info": {
   "codemirror_mode": {
    "name": "ipython",
    "version": 3
   },
   "file_extension": ".py",
   "mimetype": "text/x-python",
   "name": "python",
   "nbconvert_exporter": "python",
   "pygments_lexer": "ipython3",
   "version": "3.7.6"
  }
 },
 "nbformat": 4,
 "nbformat_minor": 4
}
